{
 "cells": [
  {
   "cell_type": "code",
   "execution_count": 1,
   "metadata": {},
   "outputs": [
    {
     "name": "stdout",
     "output_type": "stream",
     "text": [
      "['amal']\n"
     ]
    }
   ],
   "source": [
    "#import libraries\n",
    "word = input(\"Enter a string\")\n",
    "\n",
    "letters = word.split(\",\")\n",
    "\n",
    "print(letters)"
   ]
  }
 ],
 "metadata": {
  "kernelspec": {
   "display_name": "Python 3",
   "language": "python",
   "name": "python3"
  },
  "language_info": {
   "codemirror_mode": {
    "name": "ipython",
    "version": 3
   },
   "file_extension": ".py",
   "mimetype": "text/x-python",
   "name": "python",
   "nbconvert_exporter": "python",
   "pygments_lexer": "ipython3",
   "version": "3.10.6"
  },
  "orig_nbformat": 4,
  "vscode": {
   "interpreter": {
    "hash": "9ac0d25608ebae52039b25722f474cb1f3a88c194cdfbc3b2911a466351a8c6d"
   }
  }
 },
 "nbformat": 4,
 "nbformat_minor": 2
}
